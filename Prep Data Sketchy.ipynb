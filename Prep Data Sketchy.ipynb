{
 "cells": [
  {
   "cell_type": "code",
   "execution_count": null,
   "metadata": {},
   "outputs": [],
   "source": [
    "import os\n",
    "from collections import defaultdict\n",
    "import numpy as np\n",
    "import pandas as pd\n",
    "PREFIX = \"/Users/robincheong/Documents/Stanford/CS231N/Project/data/sketchy/\"\n",
    "FILE_NAMES=[\"invalid-ambiguous.txt\", \"invalid-error.txt\", \"invalid-pose.txt\"]\n",
    "TRANSFORMS = [\"tx_000000000000/\", \"tx_000000000010/\", \"tx_000000000110/\", \"tx_000000001010/\", \"tx_000000001110/\", \"tx_000100000000/\"]"
   ]
  },
  {
   "cell_type": "code",
   "execution_count": null,
   "metadata": {
    "scrolled": true
   },
   "outputs": [],
   "source": [
    "def remove_invalids(prefix, file_names, transforms, verbose=False):\n",
    "    \"\"\" Remove bad files from dataset. \"\"\"\n",
    "    invalid = set()\n",
    "\n",
    "    # read in text files and add to a set \n",
    "    for file_name in file_names:\n",
    "        with open(prefix + 'info/' + file_name, 'r') as f:\n",
    "            files = f.readlines()\n",
    "            files = map(lambda x: x[:-1] + \".png\", files)\n",
    "            invalid |= set(files)\n",
    "            \n",
    "    sketch_datadir = prefix + \"sketch/\"\n",
    "    for transform in transforms:\n",
    "        datadir = sketch_datadir + transform\n",
    "\n",
    "        for sketchdir in os.listdir(datadir):\n",
    "            if verbose:\n",
    "                print(f\"Walking through {sketchdir}...\")\n",
    "            for file in os.listdir(datadir + sketchdir):\n",
    "                if file in invalid:\n",
    "                    if verbose:\n",
    "                        print(f\"Removing file: {file}\")\n",
    "                    os.remove(datadir + sketchdir + \"/\" + file)\n",
    "                    \n",
    "\n",
    "def make_labels_dict(photos_list):\n",
    "    labels = list(set(map(lambda x: x.split('/')[0], photos_list)))\n",
    "    labels_dict = {label: val for val, label in enumerate(labels)}\n",
    "    return labels_dict\n",
    "\n",
    "def create_sketchy_set(prefix, transform, photos_list, phase, labels_dict):\n",
    "    \"\"\" Creates and saves a phase set for sketchy.\n",
    "    \n",
    "    Args:\n",
    "        prefix: path to data directory\n",
    "        transform: which of the image transformations to use\n",
    "        photos_list: list of all paths to photos in the phase\n",
    "        phase: one of \"train\", \"val\", \"test\"\n",
    "        labels_dict: dict containing a mapping from category name to labe\n",
    "    \n",
    "    \"\"\"\n",
    "    \n",
    "    phase_set = defaultdict(list)\n",
    "    \n",
    "    # loop through photos and create mapping from photo to sketch\n",
    "    total_sketches = 0\n",
    "    for photo_path in photos_list:\n",
    "        num_sketches_for_photo = 0\n",
    "        sketch_dir = prefix + \"sketch/\" + transform\n",
    "        photo_dir = prefix + \"photo/\" + transform\n",
    "        category, photo_name = photo_path.split('/')\n",
    "        \n",
    "        for sketch_name in os.listdir(os.path.join(sketch_dir, category)):\n",
    "            if sketch_name.split('-')[0] == photo_name:\n",
    "                phase_set['Photo Path'].append(os.path.join(photo_dir, photo_path) + \".jpg\")\n",
    "                phase_set['Sketch Path'].append(os.path.join(sketch_dir, category, sketch_name))\n",
    "                num_sketches_for_photo += 1\n",
    "        \n",
    "        if num_sketches_for_photo < 5:\n",
    "            print(\"Less than five photos for {}\".format(photo_path))\n",
    "        \n",
    "        total_sketches += num_sketches_for_photo\n",
    "    \n",
    "    print(\"Total number of sketches: {}\".format(total_sketches))\n",
    "    \n",
    "    phase_set = pd.DataFrame(phase_set)\n",
    "    \n",
    "    phase_set['Label'] = phase_set['Photo Path'].apply(lambda x: labels_dict[x.split('/')[-2]])\n",
    "    \n",
    "    phase_set.to_csv(os.path.join(prefix, '{}set.csv'.format(phase)))\n",
    "    \n",
    "    return phase_set"
   ]
  },
  {
   "cell_type": "code",
   "execution_count": null,
   "metadata": {},
   "outputs": [],
   "source": [
    "with open(PREFIX + \"testset.txt\", 'r') as f:\n",
    "    test_photos = f.readlines()\n",
    "    test_photos = list(map(lambda x: x[:-5], test_photos))\n",
    "labels_dict = make_labels_dict(test_photos)"
   ]
  },
  {
   "cell_type": "code",
   "execution_count": null,
   "metadata": {
    "scrolled": true
   },
   "outputs": [],
   "source": [
    "test_set = create_sketchy_set(PREFIX, \"tx_000100000000/\", test_photos, 'test', labels_dict)"
   ]
  },
  {
   "cell_type": "code",
   "execution_count": null,
   "metadata": {
    "scrolled": true
   },
   "outputs": [],
   "source": [
    "## Construct validation photos\n",
    "datadir = PREFIX + \"photo/tx_000100000000/\"\n",
    "val_photos = []\n",
    "np.random.seed(42)\n",
    "for photodir in os.listdir(datadir):    \n",
    "    photos_in_cat = os.listdir(datadir + photodir)\n",
    "    photos_in_cat = [x for x in photos_in_cat if os.path.join(photodir, x.split('.')[0]) not in test_photos]\n",
    "    cat_photos = np.random.choice(photos_in_cat, size=10, replace=False)\n",
    "    cat_photos = list(map(lambda x: photodir + \"/\" + x[:-4], cat_photos))\n",
    "    val_photos += cat_photos\n",
    "\n",
    "print(set(val_photos) & set(test_photos))"
   ]
  },
  {
   "cell_type": "code",
   "execution_count": null,
   "metadata": {},
   "outputs": [],
   "source": [
    "val_set = create_sketchy_set(PREFIX, \"tx_000100000000/\", val_photos, 'val', labels_dict)"
   ]
  },
  {
   "cell_type": "code",
   "execution_count": null,
   "metadata": {},
   "outputs": [],
   "source": [
    "datadir = PREFIX + \"photo/tx_000100000000/\"\n",
    "train_photos = []\n",
    "np.random.seed(42)\n",
    "for photodir in os.listdir(datadir):\n",
    "    print(f\"Walking through {photodir}...\")\n",
    "    \n",
    "    photos_in_cat = os.listdir(datadir + photodir)\n",
    "    cat_photos = [x for x in photos_in_cat if os.path.join(photodir, x.split('.')[0]) not in test_photos and os.path.join(photodir, x.split('.')[0]) not in val_photos]\n",
    "    cat_photos = list(map(lambda x: photodir + \"/\" + x[:-4], cat_photos))\n",
    "    train_photos += cat_photos"
   ]
  },
  {
   "cell_type": "code",
   "execution_count": null,
   "metadata": {},
   "outputs": [],
   "source": [
    "print(set(test_photos) & set(train_photos))\n",
    "print(set(val_photos) & set(train_photos))\n",
    "print(set(test_photos) & set(val_photos))"
   ]
  },
  {
   "cell_type": "code",
   "execution_count": null,
   "metadata": {},
   "outputs": [],
   "source": [
    "train_set = create_sketchy_set(PREFIX, \"tx_000100000000/\", train_photos, 'train', labels_dict)"
   ]
  },
  {
   "cell_type": "code",
   "execution_count": null,
   "metadata": {},
   "outputs": [],
   "source": [
    "train_set = pd.read_csv(os.path.join(PREFIX, 'trainset.csv'))\n",
    "val_set = pd.read_csv(os.path.join(PREFIX, 'valset.csv'))\n",
    "test_set = pd.read_csv(os.path.join(PREFIX, 'testset.csv'))"
   ]
  },
  {
   "cell_type": "code",
   "execution_count": null,
   "metadata": {},
   "outputs": [],
   "source": [
    "train_photos = train_set['Photo Path']\n",
    "val_photos = val_set['Photo Path']\n",
    "test_photos = test_set['Photo Path']"
   ]
  },
  {
   "cell_type": "code",
   "execution_count": null,
   "metadata": {},
   "outputs": [],
   "source": [
    "print(set(test_photos) & set(train_photos))\n",
    "print(set(val_photos) & set(train_photos))\n",
    "print(set(test_photos) & set(val_photos))\n",
    "\n",
    "print(len(test_photos))\n",
    "print(len(val_photos))\n",
    "print(len(train_photos))"
   ]
  },
  {
   "cell_type": "code",
   "execution_count": null,
   "metadata": {},
   "outputs": [],
   "source": [
    "train_sketches = train_set['Sketch Path']\n",
    "val_sketches = val_set['Sketch Path']\n",
    "test_sketches = test_set['Sketch Path']"
   ]
  },
  {
   "cell_type": "code",
   "execution_count": null,
   "metadata": {},
   "outputs": [],
   "source": [
    "print(set(test_sketches) & set(train_sketches))\n",
    "print(set(val_sketches) & set(train_sketches))\n",
    "print(set(test_sketches) & set(val_sketches))"
   ]
  },
  {
   "cell_type": "code",
   "execution_count": null,
   "metadata": {},
   "outputs": [],
   "source": [
    "print(len(test_photos))\n",
    "print(len(val_photos))\n",
    "print(len(train_photos))"
   ]
  },
  {
   "cell_type": "code",
   "execution_count": null,
   "metadata": {},
   "outputs": [],
   "source": []
  }
 ],
 "metadata": {
  "kernelspec": {
   "display_name": "Python 3",
   "language": "python",
   "name": "python3"
  },
  "language_info": {
   "codemirror_mode": {
    "name": "ipython",
    "version": 3
   },
   "file_extension": ".py",
   "mimetype": "text/x-python",
   "name": "python",
   "nbconvert_exporter": "python",
   "pygments_lexer": "ipython3",
   "version": "3.6.4"
  }
 },
 "nbformat": 4,
 "nbformat_minor": 2
}
