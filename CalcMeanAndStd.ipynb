{
 "cells": [
  {
   "cell_type": "code",
   "execution_count": null,
   "metadata": {},
   "outputs": [],
   "source": [
    "from utils import get_dataloaders, get_default_parser, load_sketchy_images, get_loss_fn\n",
    "from loaders.SketchyDataLoader import SketchyDataLoader\n",
    "import pandas as pd\n",
    "import os\n",
    "from PIL import Image\n",
    "import numpy as np\n",
    "from matplotlib.image import imread\n",
    "PREFIX = \"/home/robincheong/data/sketchy\"\n",
    "\n",
    "\n"
   ]
  },
  {
   "cell_type": "code",
   "execution_count": null,
   "metadata": {},
   "outputs": [],
   "source": [
    "train_set = pd.read_csv(os.path.join(PREFIX, 'trainset.csv'))"
   ]
  },
  {
   "cell_type": "code",
   "execution_count": null,
   "metadata": {},
   "outputs": [],
   "source": [
    "N_sketches = len(train_set)\n",
    "N_photos = len(train_set['Photo Path'].unique())"
   ]
  },
  {
   "cell_type": "code",
   "execution_count": null,
   "metadata": {},
   "outputs": [],
   "source": [
    "print(N_sketches)\n",
    "print(N_photos)"
   ]
  },
  {
   "cell_type": "code",
   "execution_count": null,
   "metadata": {},
   "outputs": [],
   "source": [
    "seen = set()\n",
    "photo_mean = np.zeros(3)\n",
    "for idx, row in train_set.iterrows():\n",
    "    photo_path = row['Photo Path']\n",
    "    if photo_path not in seen:\n",
    "        seen.add(photo_path)\n",
    "        photo = imread(photo_path)\n",
    "        photo_mean += np.sum(photo, axis=(0, 1)) / (256 * 256 * N_photos)\n",
    "        \n",
    "print(photo_mean)\n",
    "        "
   ]
  },
  {
   "cell_type": "code",
   "execution_count": null,
   "metadata": {},
   "outputs": [],
   "source": [
    "seen = set()\n",
    "sketch_mean = np.zeros(3)\n",
    "for idx, row in train_set.iterrows():\n",
    "    sketch_path = row['Sketch Path']\n",
    "    if sketch_path not in seen:\n",
    "        seen.add(sketch_path)\n",
    "        sketch = np.array(Image.open(sketch_path))\n",
    "        sketch_mean += np.sum(sketch, axis=(0, 1)) / (256 * 256 * N_sketches)\n",
    "        \n",
    "print(sketch_mean)"
   ]
  },
  {
   "cell_type": "code",
   "execution_count": null,
   "metadata": {},
   "outputs": [],
   "source": [
    "photo_mean = np.array([120.16157881, 114.1767907, 101.07327141])\n",
    "sketch_mean = np.array([0.95263444, 0.95263444, 0.95263444])\n",
    "\n",
    "photo_seen = set()\n",
    "photo_std = np.zeros(3)\n",
    "sketch_std = np.zeros(3)\n",
    "\n",
    "for idx, row in train_set.iterrows():\n",
    "    photo_path = row['Photo Path']\n",
    "    if photo_path not in photo_seen:\n",
    "        photo_seen.add(photo_path)\n",
    "        photo = imread(photo_path)\n",
    "        photo_std += np.sum((photo - photo_mean) ** 2) / (256 * 256 * (N_photos - 1))\n",
    "\n",
    "    sketch_path = row['Sketch Path']\n",
    "    sketch = imread(sketch_path)\n",
    "    sketch_std += np.sum((sketch - sketch_mean) ** 2) / (256 * 256 * (N_sketches - 1))\n",
    "\n",
    "photo_std = np.sqrt(photo_std)\n",
    "sketch_std = np.sqrt(sketch_std)"
   ]
  },
  {
   "cell_type": "code",
   "execution_count": null,
   "metadata": {},
   "outputs": [],
   "source": [
    "print(photo_std)\n",
    "print(sketch_std)"
   ]
  },
  {
   "cell_type": "code",
   "execution_count": null,
   "metadata": {},
   "outputs": [],
   "source": [
    "for idx, row in train_set.iterrows():\n",
    "    photo_path = row['Photo Path']\n",
    "    sketch_path = row['Sketch Path']\n",
    "    sketch = imread(sketch_path)\n",
    "    print(np.max(sketch))\n",
    "    print(np.min(sketch))\n"
   ]
  },
  {
   "cell_type": "code",
   "execution_count": null,
   "metadata": {},
   "outputs": [],
   "source": [
    "photo_std / 255"
   ]
  },
  {
   "cell_type": "code",
   "execution_count": null,
   "metadata": {},
   "outputs": [],
   "source": []
  }
 ],
 "metadata": {
  "kernelspec": {
   "display_name": "Python 3",
   "language": "python",
   "name": "python3"
  },
  "language_info": {
   "codemirror_mode": {
    "name": "ipython",
    "version": 3
   },
   "file_extension": ".py",
   "mimetype": "text/x-python",
   "name": "python",
   "nbconvert_exporter": "python",
   "pygments_lexer": "ipython3",
   "version": "3.6.4"
  }
 },
 "nbformat": 4,
 "nbformat_minor": 2
}
