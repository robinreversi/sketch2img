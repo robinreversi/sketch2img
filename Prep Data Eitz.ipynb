{
 "cells": [
  {
   "cell_type": "code",
   "execution_count": 37,
   "metadata": {},
   "outputs": [],
   "source": [
    "import os\n",
    "from collections import defaultdict\n",
    "import numpy as np\n",
    "import pandas as pd\n",
    "DATADIR = \"/home/robincheong/sbir/data/eitz2012/sketches/\"\n",
    "OUTPUTDIR = \"/home/robincheong/sbir/data/eitz2012/\""
   ]
  },
  {
   "cell_type": "code",
   "execution_count": 41,
   "metadata": {},
   "outputs": [],
   "source": [
    "def save_split_fps_txt(outputdir, split, data):\n",
    "    ''' \n",
    "        Saves the train / val / test split filepaths into a .txt file for later use \n",
    "        Args:\n",
    "            outputdir: path to the data folder in which the .txt files will be stored\n",
    "            split: the split (train / val / test)\n",
    "            data: the data to be stored\n",
    "    '''\n",
    "    with open(PREFIX + f\"{split}.txt\", 'w') as fp:\n",
    "        for item in data:\n",
    "            fp.write(f\"{item}\\n\")\n",
    "            \n",
    "            \n",
    "def get_categories(data_fps, category_map):\n",
    "    '''\n",
    "        Return a list of labels for each file in a list\n",
    "        Args:\n",
    "            data: list containing the files to match to categories\n",
    "            category_map: a map matching the string of a category to an int representation\n",
    "    '''\n",
    "    labels = []\n",
    "    for i, file in enumerate(data_fps):\n",
    "        label = file.split('/')[0]\n",
    "        label_val = category_map[label]\n",
    "        labels.append(label_val)\n",
    "    return labels\n",
    "\n",
    "\n",
    "def save_csv(data_fps, labels, outputdir, name):\n",
    "    '''\n",
    "        Saves the data + labels into outputdir\n",
    "    '''\n",
    "    df = pd.DataFrame(data={\"filepath\": data_fps, \"label\": labels})\n",
    "    df.to_csv(f\"{outputdir}/{name}.csv\", sep=',', index=False)\n",
    "    "
   ]
  },
  {
   "cell_type": "code",
   "execution_count": 42,
   "metadata": {},
   "outputs": [
    {
     "name": "stdout",
     "output_type": "stream",
     "text": [
      "2500\n"
     ]
    }
   ],
   "source": [
    "## Create test set\n",
    "test_set_fps = []\n",
    "np.random.seed(42)\n",
    "for catdir in os.listdir(DATADIR):\n",
    "    sketches = os.listdir(DATADIR + catdir)\n",
    "    chosen = np.random.choice(sketches, size=10, replace=False)\n",
    "    chosen = list(map(lambda x: catdir + \"/\" + x, chosen))\n",
    "    test_set_fps += chosen\n",
    "\n",
    "test_set_labels = get_categories(test_set_fps, labels_map)\n",
    "save_csv(test_set_fps, test_set_labels, OUTPUTDIR, \"test\")\n",
    "print(len(test_set_labels))"
   ]
  },
  {
   "cell_type": "code",
   "execution_count": 46,
   "metadata": {},
   "outputs": [
    {
     "name": "stdout",
     "output_type": "stream",
     "text": [
      "2500\n"
     ]
    }
   ],
   "source": [
    "## Construct validation set\n",
    "val_set_fps = []\n",
    "np.random.seed(42)\n",
    "for catdir in os.listdir(DATADIR):    \n",
    "    sketches = os.listdir(DATADIR + catdir)\n",
    "    sketches = [x for x in sketches if catdir + \"/\" + x not in test_set_fps]\n",
    "    chosen = np.random.choice(sketches, size=10, replace=False)\n",
    "    chosen = list(map(lambda x: catdir + \"/\" + x, chosen))\n",
    "    val_set_fps += chosen\n",
    "\n",
    "print(len(val_set_fps))"
   ]
  },
  {
   "cell_type": "code",
   "execution_count": 47,
   "metadata": {
    "scrolled": false
   },
   "outputs": [
    {
     "name": "stdout",
     "output_type": "stream",
     "text": [
      "set()\n"
     ]
    }
   ],
   "source": [
    "print(set(val_set_fps) & set(test_set_fps))"
   ]
  },
  {
   "cell_type": "code",
   "execution_count": 48,
   "metadata": {},
   "outputs": [],
   "source": [
    "val_set_labels = get_categories(val_set_fps, labels_map)\n",
    "save_csv(val_set_fps, val_set_labels, OUTPUTDIR, \"val\")"
   ]
  },
  {
   "cell_type": "code",
   "execution_count": 50,
   "metadata": {},
   "outputs": [
    {
     "name": "stdout",
     "output_type": "stream",
     "text": [
      "15000\n"
     ]
    }
   ],
   "source": [
    "## Construct train set\n",
    "train_set_fps = []\n",
    "np.random.seed(42)\n",
    "for catdir in os.listdir(DATADIR):    \n",
    "    sketches = os.listdir(DATADIR + catdir)\n",
    "    sketches = [x for x in sketches if catdir + \"/\" + x not in test_set_fps and catdir + \"/\" + x not in val_set_fps]\n",
    "    chosen = list(map(lambda x: catdir + \"/\" + x, sketches))\n",
    "    train_set_fps += chosen\n",
    "\n",
    "print(len(train_set_fps))"
   ]
  },
  {
   "cell_type": "code",
   "execution_count": 51,
   "metadata": {},
   "outputs": [
    {
     "name": "stdout",
     "output_type": "stream",
     "text": [
      "set()\n"
     ]
    }
   ],
   "source": [
    "print(set(val_set_fps) & set(test_set_fps) & set(train_set_fps))"
   ]
  },
  {
   "cell_type": "code",
   "execution_count": 52,
   "metadata": {},
   "outputs": [],
   "source": [
    "train_set_labels = get_categories(train_set_fps, labels_map)\n",
    "save_csv(train_set_fps, train_set_labels, OUTPUTDIR, \"train\")"
   ]
  },
  {
   "cell_type": "code",
   "execution_count": 53,
   "metadata": {},
   "outputs": [],
   "source": [
    "labels = list(set(map(lambda x: x.split('/')[0], test_set_fps)))"
   ]
  },
  {
   "cell_type": "code",
   "execution_count": 54,
   "metadata": {},
   "outputs": [],
   "source": [
    "labels_map = {label: val for val, label in enumerate(labels)}"
   ]
  },
  {
   "cell_type": "code",
   "execution_count": 55,
   "metadata": {},
   "outputs": [
    {
     "name": "stdout",
     "output_type": "stream",
     "text": [
      "{'violin': 0, 'satellite': 1, 'beer-mug': 2, 'submarine': 3, 'bear (animal)': 4, 'dog': 5, 'diamond': 6, 'mailbox': 7, 'rainbow': 8, 'giraffe': 9, 'umbrella': 10, 'house': 11, 'ship': 12, 'fire hydrant': 13, 'hamburger': 14, 'bottle opener': 15, 'mouth': 16, 'octopus': 17, 'palm tree': 18, 'eye': 19, 'chair': 20, 'computer-mouse': 21, 'hot-dog': 22, 'arm': 23, 'pig': 24, 'cake': 25, 'saxophone': 26, 'tent': 27, 'spider': 28, 'tennis-racket': 29, 'nose': 30, 't-shirt': 31, 'comb': 32, 'scissors': 33, 'train': 34, 'door handle': 35, 'snail': 36, 'potted plant': 37, 'teacup': 38, 'monkey': 39, 'lightbulb': 40, 'crocodile': 41, 'chandelier': 42, 'cactus': 43, 'harp': 44, 'ear': 45, 'bicycle': 46, 'mug': 47, 'tomato': 48, 'hourglass': 49, 'butterfly': 50, 'head-phones': 51, 'computer monitor': 52, 'frying-pan': 53, 'windmill': 54, 'horse': 55, 'flower with stem': 56, 'angel': 57, 'hand': 58, 'floor lamp': 59, 'truck': 60, 'moon': 61, 'squirrel': 62, 'table': 63, 'foot': 64, 'parrot': 65, 'mouse (animal)': 66, 'cat': 67, 'hot air balloon': 68, 'crane (machine)': 69, 'calculator': 70, 'traffic light': 71, 'dragon': 72, 'canoe': 73, 'wheel': 74, 'wrist-watch': 75, 'snowman': 76, 'ipod': 77, 'ant': 78, 'bridge': 79, 'camel': 80, 'envelope': 81, 'motorbike': 82, 'trombone': 83, 'castle': 84, 'wine-bottle': 85, 'sponge bob': 86, 'dolphin': 87, 'tree': 88, 'alarm clock': 89, 'crown': 90, 'teddy-bear': 91, 'bed': 92, 'bell': 93, 'megaphone': 94, 'person sitting': 95, 'mushroom': 96, 'scorpion': 97, 'binoculars': 98, 'fish': 99, 'pretzel': 100, 'camera': 101, 'car (sedan)': 102, 'cloud': 103, 'apple': 104, 'streetlight': 105, 'laptop': 106, 'teapot': 107, 'pumpkin': 108, 'armchair': 109, 'microphone': 110, 'rabbit': 111, 'van': 112, 'paper clip': 113, 'tire': 114, 'bulldozer': 115, 'race car': 116, 'suv': 117, 'sun': 118, 'human-skeleton': 119, 'shark': 120, 'pipe (for smoking)': 121, 'flying saucer': 122, 'grapes': 123, 'rooster': 124, 'banana': 125, 'wheelbarrow': 126, 'blimp': 127, 'bathtub': 128, 'grenade': 129, 'church': 130, 'purse': 131, 'boomerang': 132, 'snowboard': 133, 'syringe': 134, 'person walking': 135, 'carrot': 136, 'axe': 137, 'panda': 138, 'rollerblades': 139, 'eyeglasses': 140, 'stapler': 141, 'vase': 142, 'ice-cream-cone': 143, 'pineapple': 144, 'ashtray': 145, 'hat': 146, 'sheep': 147, 'pen': 148, 'pigeon': 149, 'bus': 150, 'barn': 151, 'fan': 152, 'tablelamp': 153, 'tooth': 154, 'knife': 155, 'revolver': 156, 'trumpet': 157, 'cannon': 158, 'cabinet': 159, 'parachute': 160, 'brain': 161, 'loudspeaker': 162, 'guitar': 163, 'space shuttle': 164, 'suitcase': 165, 'sea turtle': 166, 'leaf': 167, 'key': 168, 'mosquito': 169, 'skull': 170, 'microscope': 171, 'toilet': 172, 'parking meter': 173, 'piano': 174, 'penguin': 175, 'couch': 176, 'tv': 177, 'wineglass': 178, 'walkie talkie': 179, 'radio': 180, 'trousers': 181, 'pizza': 182, 'cow': 183, 'present': 184, 'head': 185, 'owl': 186, 'cigarette': 187, 'duck': 188, 'face': 189, 'rifle': 190, 'backpack': 191, 'lobster': 192, 'strawberry': 193, 'hammer': 194, 'lion': 195, 'satellite dish': 196, 'speed-boat': 197, 'skateboard': 198, 'pear': 199, 'tiger': 200, 'screwdriver': 201, 'snake': 202, 'kangaroo': 203, 'helicopter': 204, 'donut': 205, 'baseball bat': 206, 'keyboard': 207, 'bowl': 208, 'frog': 209, 'bush': 210, 'flying bird': 211, 'elephant': 212, 'fork': 213, 'sailboat': 214, 'swan': 215, 'feather': 216, 'crab': 217, 'cup': 218, 'lighter': 219, 'helmet': 220, 'book': 221, 'seagull': 222, 'skyscraper': 223, 'ladder': 224, 'sword': 225, 'power outlet': 226, 'airplane': 227, 'pickup truck': 228, 'santa claus': 229, 'shoe': 230, 'door': 231, 'bee': 232, 'zebra': 233, 'shovel': 234, 'hedgehog': 235, 'mermaid': 236, 'socks': 237, 'bookshelf': 238, 'basket': 239, 'candle': 240, 'standing bird': 241, 'tractor': 242, 'cell phone': 243, 'bench': 244, 'flashlight': 245, 'bread': 246, 'telephone': 247, 'toothbrush': 248, 'spoon': 249}\n"
     ]
    }
   ],
   "source": [
    "print(labels_map)"
   ]
  },
  {
   "cell_type": "code",
   "execution_count": null,
   "metadata": {},
   "outputs": [],
   "source": []
  }
 ],
 "metadata": {
  "kernelspec": {
   "display_name": "Python 3",
   "language": "python",
   "name": "python3"
  },
  "language_info": {
   "codemirror_mode": {
    "name": "ipython",
    "version": 3
   },
   "file_extension": ".py",
   "mimetype": "text/x-python",
   "name": "python",
   "nbconvert_exporter": "python",
   "pygments_lexer": "ipython3",
   "version": "3.6.4"
  }
 },
 "nbformat": 4,
 "nbformat_minor": 2
}
