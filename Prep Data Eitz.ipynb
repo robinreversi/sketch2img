{
 "cells": [
  {
   "cell_type": "code",
   "execution_count": null,
   "metadata": {},
   "outputs": [],
   "source": [
    "import os\n",
    "from collections import defaultdict\n",
    "import numpy as np\n",
    "import pandas as pd\n",
    "DATADIR = \"/Users/robincheong/Documents/Stanford/CS231N/Project/data/eitz2012/\"\n",
    "OUTPUTDIR = \"/Users/robincheong/Documents/Stanford/CS231N/Project/data/eitz2012/\""
   ]
  },
  {
   "cell_type": "code",
   "execution_count": null,
   "metadata": {},
   "outputs": [],
   "source": [
    "def save_split_fps_txt(outputdir, split, data):\n",
    "    ''' \n",
    "        Saves the train / val / test split filepaths into a .txt file for later use \n",
    "        Args:\n",
    "            outputdir: path to the data folder in which the .txt files will be stored\n",
    "            split: the split (train / val / test)\n",
    "            data: the data to be stored\n",
    "    '''\n",
    "    with open(PREFIX + f\"{split}.txt\", 'w') as fp:\n",
    "        for item in data:\n",
    "            fp.write(f\"{item}\\n\")\n",
    "            \n",
    "            \n",
    "def get_categories(data_fps, category_map):\n",
    "    '''\n",
    "        Return a list of labels for each file in a list\n",
    "        Args:\n",
    "            data: list containing the files to match to categories\n",
    "            category_map: a map matching the string of a category to an int representation\n",
    "    '''\n",
    "    labels = []\n",
    "    for i, file in enumerate(data_fps):\n",
    "        label = file.split('/')[0]\n",
    "        label_val = category_map[label]\n",
    "        labels.append(label_val)\n",
    "    return labels\n",
    "\n",
    "\n",
    "def save_csv(data_fps, labels, outputdir, name):\n",
    "    '''\n",
    "        Saves the data + labels into outputdir\n",
    "    '''\n",
    "    df = pd.DataFrame(data={\"filepath\": data_fps, \"label\": labels})\n",
    "    df.to_csv(f\"{outputdir}/{name}.csv\", sep=',', index=False)\n",
    "    "
   ]
  },
  {
   "cell_type": "code",
   "execution_count": null,
   "metadata": {},
   "outputs": [],
   "source": [
    "## Create test set\n",
    "test_set_fps = []\n",
    "np.random.seed(42)\n",
    "for catdir in os.listdir(DATADIR):\n",
    "    sketches = os.listdir(DATADIR + catdir)\n",
    "    chosen = np.random.choice(sketches, size=10, replace=False)\n",
    "    chosen = list(map(lambda x: catdir + \"/\" + x, chosen))\n",
    "    test_set_fps += chosen\n",
    "\n",
    "test_set_labels = get_categories(test_set_fps, labels_map)\n",
    "save_csv(test_set_fps, test_set_labels, OUTPUTDIR, \"test\")\n",
    "print(len(test_set_labels))"
   ]
  },
  {
   "cell_type": "code",
   "execution_count": null,
   "metadata": {},
   "outputs": [],
   "source": [
    "## Construct validation set\n",
    "val_set_fps = []\n",
    "np.random.seed(42)\n",
    "for catdir in os.listdir(DATADIR):    \n",
    "    sketches = os.listdir(DATADIR + catdir)\n",
    "    sketches = [x for x in sketches if catdir + \"/\" + x not in test_set_fps]\n",
    "    chosen = np.random.choice(sketches, size=10, replace=False)\n",
    "    chosen = list(map(lambda x: catdir + \"/\" + x, chosen))\n",
    "    val_set_fps += chosen\n",
    "\n",
    "print(len(val_set_fps))"
   ]
  },
  {
   "cell_type": "code",
   "execution_count": null,
   "metadata": {
    "scrolled": false
   },
   "outputs": [],
   "source": [
    "print(set(val_set_fps) & set(test_set_fps))"
   ]
  },
  {
   "cell_type": "code",
   "execution_count": null,
   "metadata": {},
   "outputs": [],
   "source": [
    "val_set_labels = get_categories(val_set_fps, labels_map)\n",
    "save_csv(val_set_fps, val_set_labels, OUTPUTDIR, \"val\")"
   ]
  },
  {
   "cell_type": "code",
   "execution_count": null,
   "metadata": {},
   "outputs": [],
   "source": [
    "## Construct train set\n",
    "train_set_fps = []\n",
    "np.random.seed(42)\n",
    "for catdir in os.listdir(DATADIR):    \n",
    "    sketches = os.listdir(DATADIR + catdir)\n",
    "    sketches = [x for x in sketches if catdir + \"/\" + x not in test_set_fps and catdir + \"/\" + x not in val_set_fps]\n",
    "    chosen = list(map(lambda x: catdir + \"/\" + x, sketches))\n",
    "    train_set_fps += chosen\n",
    "\n",
    "print(len(train_set_fps))"
   ]
  },
  {
   "cell_type": "code",
   "execution_count": null,
   "metadata": {},
   "outputs": [],
   "source": [
    "print(set(val_set_fps) & set(test_set_fps) & set(train_set_fps))"
   ]
  },
  {
   "cell_type": "code",
   "execution_count": null,
   "metadata": {},
   "outputs": [],
   "source": [
    "train_set_labels = get_categories(train_set_fps, labels_map)\n",
    "save_csv(train_set_fps, train_set_labels, OUTPUTDIR, \"train\")"
   ]
  },
  {
   "cell_type": "code",
   "execution_count": null,
   "metadata": {},
   "outputs": [],
   "source": [
    "labels = list(set(map(lambda x: x.split('/')[0], test_set_fps)))"
   ]
  },
  {
   "cell_type": "code",
   "execution_count": null,
   "metadata": {},
   "outputs": [],
   "source": [
    "labels_map = {label: val for val, label in enumerate(labels)}"
   ]
  },
  {
   "cell_type": "code",
   "execution_count": null,
   "metadata": {},
   "outputs": [],
   "source": [
    "print(labels_map)"
   ]
  },
  {
   "cell_type": "code",
   "execution_count": null,
   "metadata": {},
   "outputs": [],
   "source": []
  }
 ],
 "metadata": {
  "kernelspec": {
   "display_name": "Python 3",
   "language": "python",
   "name": "python3"
  },
  "language_info": {
   "codemirror_mode": {
    "name": "ipython",
    "version": 3
   },
   "file_extension": ".py",
   "mimetype": "text/x-python",
   "name": "python",
   "nbconvert_exporter": "python",
   "pygments_lexer": "ipython3",
   "version": "3.6.4"
  }
 },
 "nbformat": 4,
 "nbformat_minor": 2
}
